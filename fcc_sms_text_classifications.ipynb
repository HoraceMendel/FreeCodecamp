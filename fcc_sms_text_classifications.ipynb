{
  "cells": [
    {
      "cell_type": "code",
      "execution_count": null,
      "metadata": {
        "id": "8RZOuS9LWQvv"
      },
      "outputs": [],
      "source": [
        "# import libraries\n",
        "!pip install -q tf-nightly\n",
        "!pip install -q tensorflow-datasets\n",
        "\n",
        "import tensorflow as tf\n",
        "import pandas as pd\n",
        "import numpy as np\n",
        "import matplotlib.pyplot as plt\n",
        "import tensorflow_datasets as tfds\n",
        "from tensorflow.keras import layers\n",
        "import re\n",
        "\n",
        "print(tf.__version__)"
      ]
    },
    {
      "cell_type": "code",
      "execution_count": null,
      "metadata": {
        "id": "lMHwYXHXCar3"
      },
      "outputs": [],
      "source": [
        "# get data files\n",
        "!wget https://cdn.freecodecamp.org/project-data/sms/train-data.tsv\n",
        "!wget https://cdn.freecodecamp.org/project-data/sms/valid-data.tsv\n",
        "\n",
        "train_file_path = \"train-data.tsv\"\n",
        "test_file_path = \"valid-data.tsv\""
      ]
    },
    {
      "cell_type": "code",
      "execution_count": null,
      "metadata": {
        "id": "g_h508FEClxO"
      },
      "outputs": [],
      "source": [
        "# C3 - Prétraitement & Modèle\n",
        "\n",
        "# Nettoyage basique\n",
        "def clean_text(text):\n",
        "    text = text.lower()\n",
        "    text = re.sub(r\"http\\S+|www\\S+|https\\S+\", '', text)\n",
        "    text = re.sub(r\"[^a-zA-Z\\s]\", '', text)\n",
        "    return text\n",
        "\n",
        "train_df[\"message\"] = train_df[\"message\"].apply(clean_text)\n",
        "test_df[\"message\"] = test_df[\"message\"].apply(clean_text)\n",
        "\n",
        "# Encodage des labels\n",
        "train_df[\"label\"] = train_df[\"label\"].map({\"ham\": 0, \"spam\": 1})\n",
        "test_df[\"label\"] = test_df[\"label\"].map({\"ham\": 0, \"spam\": 1})\n",
        "\n",
        "# Tokenizer\n",
        "vocab_size = 1000\n",
        "embedding_dim = 16\n",
        "max_length = 100\n",
        "trunc_type = 'post'\n",
        "padding_type = 'post'\n",
        "oov_tok = \"<OOV>\"\n",
        "\n",
        "tokenizer = tf.keras.preprocessing.text.Tokenizer(num_words=vocab_size, oov_token=oov_tok)\n",
        "tokenizer.fit_on_texts(train_df[\"message\"])\n",
        "\n",
        "# Séquences\n",
        "train_sequences = tokenizer.texts_to_sequences(train_df[\"message\"])\n",
        "train_padded = tf.keras.preprocessing.sequence.pad_sequences(train_sequences, maxlen=max_length, padding=padding_type, truncating=trunc_type)\n",
        "\n",
        "test_sequences = tokenizer.texts_to_sequences(test_df[\"message\"])\n",
        "test_padded = tf.keras.preprocessing.sequence.pad_sequences(test_sequences, maxlen=max_length, padding=padding_type, truncating=trunc_type)\n",
        "\n",
        "# Labels\n",
        "train_labels = np.array(train_df[\"label\"])\n",
        "test_labels = np.array(test_df[\"label\"])\n",
        "\n",
        "# Modèle\n",
        "model = tf.keras.Sequential([\n",
        "    layers.Embedding(vocab_size, embedding_dim, input_length=max_length),\n",
        "    layers.Bidirectional(layers.LSTM(16, return_sequences=True)),\n",
        "    layers.Bidirectional(layers.LSTM(8)),\n",
        "    layers.Dense(24, activation='relu'),\n",
        "    layers.Dense(1, activation='sigmoid')\n",
        "])\n",
        "\n",
        "model.compile(loss='binary_crossentropy', optimizer='adam', metrics=['accuracy'])\n",
        "\n",
        "# Entraînement\n",
        "num_epochs = 20\n",
        "model.fit(train_padded, train_labels, epochs=num_epochs, validation_data=(test_padded, test_labels), verbose=2)"
      ]
    },
    {
      "cell_type": "code",
      "source": [
        "# Fonction prédictive\n",
        "def predict_message(pred_text):\n",
        "    cleaned = clean_text(pred_text)\n",
        "    seq = tokenizer.texts_to_sequences([cleaned])\n",
        "    padded = tf.keras.preprocessing.sequence.pad_sequences(seq, maxlen=max_length, padding=padding_type, truncating=trunc_type)\n",
        "    prediction_score = model.predict(padded)[0][0]\n",
        "    label = \"spam\" if prediction_score > 0.5 else \"ham\"\n",
        "    return [float(prediction_score), label]\n",
        "\n",
        "# Exemple de test\n",
        "pred_text = \"how are you doing today?\"\n",
        "prediction = predict_message(pred_text)\n",
        "print(prediction)"
      ],
      "metadata": {
        "id": "yWAGfdazG481"
      },
      "execution_count": null,
      "outputs": []
    },
    {
      "cell_type": "code",
      "execution_count": null,
      "metadata": {
        "id": "Dxotov85SjsC"
      },
      "outputs": [],
      "source": [
        "# Run this cell to test your function and model. Do not modify contents.\n",
        "def test_predictions():\n",
        "  test_messages = [\"how are you doing today\",\n",
        "                   \"sale today! to stop texts call 98912460324\",\n",
        "                   \"i dont want to go. can we try it a different day? available sat\",\n",
        "                   \"our new mobile video service is live. just install on your phone to start watching.\",\n",
        "                   \"you have won £1000 cash! call to claim your prize.\",\n",
        "                   \"i'll bring it tomorrow. don't forget the milk.\",\n",
        "                   \"wow, is your arm alright. that happened to me one time too\"\n",
        "                  ]\n",
        "\n",
        "  test_answers = [\"ham\", \"spam\", \"ham\", \"spam\", \"spam\", \"ham\", \"ham\"]\n",
        "  passed = True\n",
        "\n",
        "  for msg, ans in zip(test_messages, test_answers):\n",
        "    prediction = predict_message(msg)\n",
        "    if prediction[1] != ans:\n",
        "      passed = False\n",
        "\n",
        "  if passed:\n",
        "    print(\"You passed the challenge. Great job!\")\n",
        "  else:\n",
        "    print(\"You haven't passed yet. Keep trying.\")\n",
        "\n",
        "test_predictions()\n"
      ]
    },
    {
      "cell_type": "code",
      "source": [],
      "metadata": {
        "id": "d3uPGzu1FtW5"
      },
      "execution_count": null,
      "outputs": []
    }
  ],
  "metadata": {
    "colab": {
      "name": "fcc_sms_text_classification.ipynb",
      "private_outputs": true,
      "provenance": [],
      "toc_visible": true
    },
    "kernelspec": {
      "display_name": "Python 3",
      "name": "python3"
    },
    "language_info": {}
  },
  "nbformat": 4,
  "nbformat_minor": 0
}